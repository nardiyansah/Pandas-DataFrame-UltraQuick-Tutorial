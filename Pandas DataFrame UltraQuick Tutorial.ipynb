{
 "cells": [
  {
   "cell_type": "code",
   "execution_count": 10,
   "metadata": {},
   "outputs": [],
   "source": [
    "#@title Copyright 2020 Google LLC. Double-click here for license information.\n",
    "# Licensed under the Apache License, Version 2.0 (the \"License\");\n",
    "# you may not use this file except in compliance with the License.\n",
    "# You may obtain a copy of the License at\n",
    "#\n",
    "# https://www.apache.org/licenses/LICENSE-2.0\n",
    "#\n",
    "# Unless required by applicable law or agreed to in writing, software\n",
    "# distributed under the License is distributed on an \"AS IS\" BASIS,\n",
    "# WITHOUT WARRANTIES OR CONDITIONS OF ANY KIND, either express or implied.\n",
    "# See the License for the specific language governing permissions and\n",
    "# limitations under the License."
   ]
  },
  {
   "cell_type": "markdown",
   "metadata": {},
   "source": [
    "# Pandas DataFrame UltraQuick Tutorial\n",
    "\n",
    "DataFrame adalah struktur data utama di dalam pandas API. Notebook ini tidak mengajarkan semua tutorial mengenai DataFrame. Notebook ini hanya pengenalan singkat mengenai bagian DataFrame yang berguna bagi pemula.\n",
    "\n",
    "DataFrame mirip dengan spreadsheet di dalam memori. Seperti spreadsheet :\n",
    "- DataFrame menyimpan data di dalam sel\n",
    "- DataFrame memiliki yang namanya kolom dan baris"
   ]
  },
  {
   "cell_type": "markdown",
   "metadata": {},
   "source": [
    "## Import modul NumPy dan pandas"
   ]
  },
  {
   "cell_type": "code",
   "execution_count": 11,
   "metadata": {},
   "outputs": [],
   "source": [
    "import numpy as np\n",
    "import pandas as pd"
   ]
  },
  {
   "cell_type": "markdown",
   "metadata": {},
   "source": [
    "## Membuat DataFrame\n",
    "\n",
    "Kode berikut akan membuat DataFrame sederhana yang memiliki 10 sel yang terdiri dari :\n",
    "- 5 baris\n",
    "- 2 kolom, satu namanya `temperature` dan satunya namanya `activity`\n",
    "\n",
    "Kode berikut akan menginstansiasi kelas `pd.DataFrame` untuk membuat sebuah DataFrame. Kelas ini mengambil 2 argumen :\n",
    "- argumen pertama membutuhkan array sebagai bahan pembuatan DataFrame\n",
    "- argumen kedua mengidentifikasikan nama dari kolom"
   ]
  },
  {
   "cell_type": "code",
   "execution_count": 12,
   "metadata": {},
   "outputs": [
    {
     "name": "stdout",
     "output_type": "stream",
     "text": [
      "   temperature  activity\n",
      "0            0         3\n",
      "1           10         7\n",
      "2           20         9\n",
      "3           30        14\n",
      "4           40        15\n"
     ]
    }
   ],
   "source": [
    "# Create and populate a 5x2 NumPy array\n",
    "my_data = np.array([[0, 3], [10, 7], [20, 9], [30, 14], [40, 15]])\n",
    "\n",
    "# Create a Python list that holds the names of the two columns\n",
    "my_column_names = ['temperature', 'activity']\n",
    "\n",
    "# Create a DataFrame\n",
    "my_dataframe = pd.DataFrame(data=my_data, columns=my_column_names)\n",
    "\n",
    "# Print the entire DataFrame\n",
    "print(my_dataframe)"
   ]
  },
  {
   "cell_type": "markdown",
   "metadata": {},
   "source": [
    "## Menambah kolom baru ke DataFrame\n",
    "\n",
    "Kode dibawah membuat kolom baru dengan nama `adjusted` di dalam `my_dataframe`"
   ]
  },
  {
   "cell_type": "code",
   "execution_count": 13,
   "metadata": {},
   "outputs": [
    {
     "name": "stdout",
     "output_type": "stream",
     "text": [
      "   temperature  activity  adjusted\n",
      "0            0         3         5\n",
      "1           10         7         9\n",
      "2           20         9        11\n",
      "3           30        14        16\n",
      "4           40        15        17\n"
     ]
    }
   ],
   "source": [
    "# Create a new column named adjusted\n",
    "my_dataframe[\"adjusted\"] = my_dataframe[\"activity\"] + 2\n",
    "\n",
    "# Print the entire DataFrame\n",
    "print(my_dataframe)"
   ]
  },
  {
   "cell_type": "markdown",
   "metadata": {},
   "source": [
    "## Memisahkan sub bagian dari DataFrame\n",
    "\n",
    "pandas menyediakan banyak cara untuk mengisolasi baris, kolom, slices atau sel di dalam sebuah DataFrame"
   ]
  },
  {
   "cell_type": "code",
   "execution_count": 14,
   "metadata": {},
   "outputs": [
    {
     "name": "stdout",
     "output_type": "stream",
     "text": [
      "Rows #0, #1, dan #2:\n",
      "   temperature  activity  adjusted\n",
      "0            0         3         5\n",
      "1           10         7         9\n",
      "2           20         9        11 \n",
      "\n",
      "Row #2:\n",
      "   temperature  activity  adjusted\n",
      "2           20         9        11 \n",
      "\n",
      "Rows #1, #2, dan #3:\n",
      "   temperature  activity  adjusted\n",
      "1           10         7         9\n",
      "2           20         9        11\n",
      "3           30        14        16 \n",
      "\n",
      "Column 'temperature':\n",
      "0     0\n",
      "1    10\n",
      "2    20\n",
      "3    30\n",
      "4    40\n",
      "Name: temperature, dtype: int64\n"
     ]
    }
   ],
   "source": [
    "print(\"Rows #0, #1, dan #2:\")\n",
    "print(my_dataframe.head(3), '\\n')\n",
    "\n",
    "print(\"Row #2:\")\n",
    "print(my_dataframe.iloc[[2]], '\\n')\n",
    "\n",
    "print(\"Rows #1, #2, dan #3:\")\n",
    "print(my_dataframe[1:4], '\\n')\n",
    "\n",
    "print(\"Column 'temperature':\")\n",
    "print(my_dataframe['temperature'])"
   ]
  },
  {
   "cell_type": "markdown",
   "metadata": {},
   "source": [
    "## Task 1: Create a DataFrame\n",
    "\n",
    "Do the following:\n",
    "\n",
    "  1. Create an 3x4 (3 rows x 4 columns) pandas DataFrame in which the columns are named `Eleanor`,  `Chidi`, `Tahani`, and `Jason`.  Populate each of the 12 cells in the DataFrame with a random integer between 0 and 100, inclusive.\n",
    "\n",
    "  2. Output the following:\n",
    "\n",
    "     * the entire DataFrame\n",
    "     * the value in the cell of row #1 of the `Eleanor` column\n",
    "\n",
    "  3. Create a fifth column named `Janet`, which is populated with the row-by-row sums of `Tahani` and `Jason`.\n",
    "\n",
    "To complete this task, it helps to know the NumPy basics covered in the NumPy UltraQuick Tutorial. \n"
   ]
  },
  {
   "cell_type": "code",
   "execution_count": 15,
   "metadata": {},
   "outputs": [
    {
     "name": "stdout",
     "output_type": "stream",
     "text": [
      "Entire dataframe:\n",
      "   Eleanor  Chidi  Tahani  Jason\n",
      "0       42     85      69     16\n",
      "1       21     52       1     83\n",
      "2       26     52      78     86 \n",
      "\n",
      "row #1 column Eleanor:\n",
      "21 \n",
      "\n",
      "   Eleanor  Chidi  Tahani  Jason  Janet\n",
      "0       42     85      69     16     85\n",
      "1       21     52       1     83     84\n",
      "2       26     52      78     86    164\n"
     ]
    }
   ],
   "source": [
    "my_data = np.random.randint(low=0, high=101, size=(3,4))\n",
    "\n",
    "column_names = ['Eleanor', 'Chidi', 'Tahani', 'Jason']\n",
    "\n",
    "df = pd.DataFrame(data=my_data, columns=column_names)\n",
    "\n",
    "print(\"Entire dataframe:\")\n",
    "print(df, '\\n')\n",
    "\n",
    "print(\"row #1 column Eleanor:\")\n",
    "print(df['Eleanor'][1], '\\n')\n",
    "\n",
    "df['Janet'] = df['Tahani'] + df['Jason']\n",
    "\n",
    "print(df)"
   ]
  },
  {
   "cell_type": "markdown",
   "metadata": {},
   "source": [
    "## Menyalin sebuah DataFrame\n",
    "\n",
    "Pandas menyediakan 2 cara untuk menduplikat sebuah DataFrame:\n",
    "- **Referencing** . jika menggunakan metode ini semua perubahan yang dilakukan di DataFrame yang baru akan berdampak juga di DataFrame asal, begitu juga sebaliknya.\n",
    "- **Copying** . jika menggunakan `pd.DataFrame.copy` itu benar-benar membuat DataFrame yang independ terlepas dari Dataframe asal. Semua perubahan di satu DataFrame tidak akan memengaruhi DataFrame yang lain.\n",
    "\n",
    "Perbedaanya tidak terlalu keliatan, tapi penting."
   ]
  },
  {
   "cell_type": "code",
   "execution_count": 16,
   "metadata": {},
   "outputs": [
    {
     "name": "stdout",
     "output_type": "stream",
     "text": [
      "Experiment with a reference:\n",
      "  Starting value of df: 83\n",
      "  Starting value of reference_to_df: 83\n",
      "\n",
      "  Updated df: 88\n",
      "  Updated reference_to_df: 88\n",
      "\n",
      "\n",
      "Experiment with a true copy:\n",
      "  Starting value of my_dataframe: 7\n",
      "  Starting value of copy_of_my_dataframe: 7\n",
      "\n",
      "  Updated my_dataframe: 10\n",
      "  copy_of_my_dataframe does not get updated: 7\n"
     ]
    }
   ],
   "source": [
    "# Create a reference by assigning my_dataframe to a new variable.\n",
    "print(\"Experiment with a reference:\")\n",
    "reference_to_df = df\n",
    "\n",
    "# Print the starting value of a particular cell.\n",
    "print(\"  Starting value of df: %d\" % df['Jason'][1])\n",
    "print(\"  Starting value of reference_to_df: %d\\n\" % reference_to_df['Jason'][1])\n",
    "\n",
    "# Modify a cell in df.\n",
    "df.at[1, 'Jason'] = df['Jason'][1] + 5\n",
    "print(\"  Updated df: %d\" % df['Jason'][1])\n",
    "print(\"  Updated reference_to_df: %d\\n\\n\" % reference_to_df['Jason'][1])\n",
    "\n",
    "# Create a true copy of my_dataframe\n",
    "print(\"Experiment with a true copy:\")\n",
    "copy_of_my_dataframe = my_dataframe.copy()\n",
    "\n",
    "# Print the starting value of a particular cell.\n",
    "print(\"  Starting value of my_dataframe: %d\" % my_dataframe['activity'][1])\n",
    "print(\"  Starting value of copy_of_my_dataframe: %d\\n\" % copy_of_my_dataframe['activity'][1])\n",
    "\n",
    "# Modify a cell in df.\n",
    "my_dataframe.at[1, 'activity'] = my_dataframe['activity'][1] + 3\n",
    "print(\"  Updated my_dataframe: %d\" % my_dataframe['activity'][1])\n",
    "print(\"  copy_of_my_dataframe does not get updated: %d\" % copy_of_my_dataframe['activity'][1])"
   ]
  },
  {
   "cell_type": "code",
   "execution_count": null,
   "metadata": {},
   "outputs": [],
   "source": []
  }
 ],
 "metadata": {
  "kernelspec": {
   "display_name": "Python 3",
   "language": "python",
   "name": "python3"
  },
  "language_info": {
   "codemirror_mode": {
    "name": "ipython",
    "version": 3
   },
   "file_extension": ".py",
   "mimetype": "text/x-python",
   "name": "python",
   "nbconvert_exporter": "python",
   "pygments_lexer": "ipython3",
   "version": "3.8.5"
  }
 },
 "nbformat": 4,
 "nbformat_minor": 4
}
